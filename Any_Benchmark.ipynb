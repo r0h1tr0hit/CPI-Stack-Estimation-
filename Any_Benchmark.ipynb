{
  "nbformat": 4,
  "nbformat_minor": 0,
  "metadata": {
    "colab": {
      "name": "Any_Benchmark.ipynb",
      "provenance": [],
      "collapsed_sections": [],
      "toc_visible": true
    },
    "kernelspec": {
      "name": "python3",
      "display_name": "Python 3"
    }
  },
  "cells": [
    {
      "cell_type": "code",
      "metadata": {
        "id": "0chyaaBU5jrc",
        "colab": {
          "base_uri": "https://localhost:8080/"
        },
        "outputId": "a8bb2558-d186-4c13-a0b1-955a9bebf70d"
      },
      "source": [
        "import pandas as pd\n",
        "import numpy as np\n",
        "import math\n",
        "import sklearn\n",
        "import matplotlib.pyplot as plt\n",
        "import numpy as np\n",
        "import pandas as pd\n",
        "import scipy as sp\n",
        "import seaborn as sns\n",
        "import statsmodels.api as sm\n",
        "import statsmodels.tsa.api as smt\n",
        "import warnings\n",
        "from google.colab import drive\n",
        "from sklearn.linear_model import LinearRegression\n",
        "from sklearn.model_selection import train_test_split\n",
        "from statsmodels.stats.outliers_influence import variance_inflation_factor\n",
        "from sklearn import linear_model\n"
      ],
      "execution_count": null,
      "outputs": [
        {
          "output_type": "stream",
          "text": [
            "/usr/local/lib/python3.6/dist-packages/statsmodels/tools/_testing.py:19: FutureWarning: pandas.util.testing is deprecated. Use the functions in the public API at pandas.testing instead.\n",
            "  import pandas.util.testing as tm\n"
          ],
          "name": "stderr"
        }
      ]
    },
    {
      "cell_type": "markdown",
      "metadata": {
        "id": "Vp43GV2pa9QC"
      },
      "source": [
        "# **Upload your train data text file with file name**\n",
        "\n",
        "# **data_train.txt**"
      ]
    },
    {
      "cell_type": "code",
      "metadata": {
        "id": "geBDDvuibKTb",
        "colab": {
          "base_uri": "https://localhost:8080/",
          "height": 408
        },
        "outputId": "e876189c-456e-4027-dc04-21d0261aa692"
      },
      "source": [
        "read_file = pd.read_fwf (r'data_train.txt')\n",
        "read_file.to_csv (r'example1.csv', index=None)\n",
        "df1 = pd.read_csv('example1.csv')\n",
        "df1.drop(df1.columns[[0,1,3,5,6,7,8,9,10]],axis =1)\n",
        "df1.to_csv('example2.csv')\n",
        "df2 = pd.read_csv('example2.csv')\n",
        "df2 = df2.replace(',','', regex=True)\n",
        "branch_load= []\n",
        "branch= []\n",
        "L1D= []\n",
        "L1I= []\n",
        "dTLB= []\n",
        "iTLB= []\n",
        "cache = []\n",
        "cycle =[]\n",
        "instr =[]\n",
        "for i in df2.index:\n",
        "    if(df2['events'][i] == 'branch-load-misses'):\n",
        "        branch_load.append(df2['counts'][i])\n",
        "    elif(df2['events'][i] == 'branch-misses:u'):\n",
        "        branch.append(df2['counts'][i])\n",
        "    elif(df2['events'][i] == 'L1-dcache-load-misses'):\n",
        "        L1D.append(df2['counts'][i])\n",
        "    elif(df2['events'][i] == 'L1-icache-load-misses'):\n",
        "        L1I.append(df2['counts'][i])\n",
        "    elif(df2['events'][i] == 'dTLB-load-misses'):\n",
        "        dTLB.append(df2['counts'][i])\n",
        "    elif(df2['events'][i] == 'iTLB-load-misses'):\n",
        "        iTLB.append(df2['counts'][i])\n",
        "    elif(df2['events'][i] == 'cache-misses:u'):\n",
        "        cache.append(df2['counts'][i])\n",
        "    elif(df2['events'][i] == 'instructions'):\n",
        "        instr.append(df2['counts'][i])\n",
        "    elif(df2['events'][i] == 'cycles'):\n",
        "        cycle.append(df2['counts'][i])\n",
        "cpi = []\n",
        "for i in range(len(cycle)):\n",
        "    cpi.append(float(cycle[i])/float(instr[i]))\n",
        "def nor(l):\n",
        "    l = [float(i) for i in l] \n",
        "    l = [(float(i)-min(l))/(max(l)-min(l)) for i in l]\n",
        "    return l\n",
        "branch_load = nor(branch_load)\n",
        "cache = nor(cache)\n",
        "L1D= nor(L1D)\n",
        "L1I= nor(L1I)\n",
        "dTLB= nor(dTLB)\n",
        "branch= nor(branch)\n",
        "iTLB= nor(iTLB)\n",
        "dictionary = {'branch-load-misses' : branch_load, 'branch-misses':branch, 'L1-dcache-load-misses':L1D, 'L1-icache-load-misses':L1I, 'dTLB-load-misses':dTLB\n",
        "      ,'iTLB-load-misses':iTLB, 'cache-misses' :cache, 'CPI' : cpi}\n",
        "finalDF = pd.DataFrame(dictionary)\n",
        "finalDF.to_csv('Train_Data.csv')\n",
        "reg = linear_model.LinearRegression().fit(finalDF[['branch-load-misses','branch-misses','L1-dcache-load-misses','L1-icache-load-misses','dTLB-load-misses','iTLB-load-misses','cache-misses']],finalDF.CPI)"
      ],
      "execution_count": null,
      "outputs": [
        {
          "output_type": "error",
          "ename": "ValueError",
          "evalue": "ignored",
          "traceback": [
            "\u001b[0;31m---------------------------------------------------------------------------\u001b[0m",
            "\u001b[0;31mValueError\u001b[0m                                Traceback (most recent call last)",
            "\u001b[0;32m<ipython-input-5-6b5d95fb222d>\u001b[0m in \u001b[0;36m<module>\u001b[0;34m()\u001b[0m\n\u001b[1;32m     50\u001b[0m dictionary = {'branch-load-misses' : branch_load, 'branch-misses':branch, 'L1-dcache-load-misses':L1D, 'L1-icache-load-misses':L1I, 'dTLB-load-misses':dTLB\n\u001b[1;32m     51\u001b[0m       ,'iTLB-load-misses':iTLB, 'cache-misses' :cache, 'CPI' : cpi}\n\u001b[0;32m---> 52\u001b[0;31m \u001b[0mfinalDF\u001b[0m \u001b[0;34m=\u001b[0m \u001b[0mpd\u001b[0m\u001b[0;34m.\u001b[0m\u001b[0mDataFrame\u001b[0m\u001b[0;34m(\u001b[0m\u001b[0mdictionary\u001b[0m\u001b[0;34m)\u001b[0m\u001b[0;34m\u001b[0m\u001b[0;34m\u001b[0m\u001b[0m\n\u001b[0m\u001b[1;32m     53\u001b[0m \u001b[0mfinalDF\u001b[0m\u001b[0;34m.\u001b[0m\u001b[0mto_csv\u001b[0m\u001b[0;34m(\u001b[0m\u001b[0;34m'Train_Data.csv'\u001b[0m\u001b[0;34m)\u001b[0m\u001b[0;34m\u001b[0m\u001b[0;34m\u001b[0m\u001b[0m\n\u001b[1;32m     54\u001b[0m \u001b[0mreg\u001b[0m \u001b[0;34m=\u001b[0m \u001b[0mlinear_model\u001b[0m\u001b[0;34m.\u001b[0m\u001b[0mLinearRegression\u001b[0m\u001b[0;34m(\u001b[0m\u001b[0;34m)\u001b[0m\u001b[0;34m.\u001b[0m\u001b[0mfit\u001b[0m\u001b[0;34m(\u001b[0m\u001b[0mfinalDF\u001b[0m\u001b[0;34m[\u001b[0m\u001b[0;34m[\u001b[0m\u001b[0;34m'branch-load-misses'\u001b[0m\u001b[0;34m,\u001b[0m\u001b[0;34m'branch-misses'\u001b[0m\u001b[0;34m,\u001b[0m\u001b[0;34m'L1-dcache-load-misses'\u001b[0m\u001b[0;34m,\u001b[0m\u001b[0;34m'L1-icache-load-misses'\u001b[0m\u001b[0;34m,\u001b[0m\u001b[0;34m'dTLB-load-misses'\u001b[0m\u001b[0;34m,\u001b[0m\u001b[0;34m'iTLB-load-misses'\u001b[0m\u001b[0;34m,\u001b[0m\u001b[0;34m'cache-misses'\u001b[0m\u001b[0;34m]\u001b[0m\u001b[0;34m]\u001b[0m\u001b[0;34m,\u001b[0m\u001b[0mfinalDF\u001b[0m\u001b[0;34m.\u001b[0m\u001b[0mCPI\u001b[0m\u001b[0;34m)\u001b[0m\u001b[0;34m\u001b[0m\u001b[0;34m\u001b[0m\u001b[0m\n",
            "\u001b[0;32m/usr/local/lib/python3.6/dist-packages/pandas/core/frame.py\u001b[0m in \u001b[0;36m__init__\u001b[0;34m(self, data, index, columns, dtype, copy)\u001b[0m\n\u001b[1;32m    466\u001b[0m \u001b[0;34m\u001b[0m\u001b[0m\n\u001b[1;32m    467\u001b[0m         \u001b[0;32melif\u001b[0m \u001b[0misinstance\u001b[0m\u001b[0;34m(\u001b[0m\u001b[0mdata\u001b[0m\u001b[0;34m,\u001b[0m \u001b[0mdict\u001b[0m\u001b[0;34m)\u001b[0m\u001b[0;34m:\u001b[0m\u001b[0;34m\u001b[0m\u001b[0;34m\u001b[0m\u001b[0m\n\u001b[0;32m--> 468\u001b[0;31m             \u001b[0mmgr\u001b[0m \u001b[0;34m=\u001b[0m \u001b[0minit_dict\u001b[0m\u001b[0;34m(\u001b[0m\u001b[0mdata\u001b[0m\u001b[0;34m,\u001b[0m \u001b[0mindex\u001b[0m\u001b[0;34m,\u001b[0m \u001b[0mcolumns\u001b[0m\u001b[0;34m,\u001b[0m \u001b[0mdtype\u001b[0m\u001b[0;34m=\u001b[0m\u001b[0mdtype\u001b[0m\u001b[0;34m)\u001b[0m\u001b[0;34m\u001b[0m\u001b[0;34m\u001b[0m\u001b[0m\n\u001b[0m\u001b[1;32m    469\u001b[0m         \u001b[0;32melif\u001b[0m \u001b[0misinstance\u001b[0m\u001b[0;34m(\u001b[0m\u001b[0mdata\u001b[0m\u001b[0;34m,\u001b[0m \u001b[0mma\u001b[0m\u001b[0;34m.\u001b[0m\u001b[0mMaskedArray\u001b[0m\u001b[0;34m)\u001b[0m\u001b[0;34m:\u001b[0m\u001b[0;34m\u001b[0m\u001b[0;34m\u001b[0m\u001b[0m\n\u001b[1;32m    470\u001b[0m             \u001b[0;32mimport\u001b[0m \u001b[0mnumpy\u001b[0m\u001b[0;34m.\u001b[0m\u001b[0mma\u001b[0m\u001b[0;34m.\u001b[0m\u001b[0mmrecords\u001b[0m \u001b[0;32mas\u001b[0m \u001b[0mmrecords\u001b[0m\u001b[0;34m\u001b[0m\u001b[0;34m\u001b[0m\u001b[0m\n",
            "\u001b[0;32m/usr/local/lib/python3.6/dist-packages/pandas/core/internals/construction.py\u001b[0m in \u001b[0;36minit_dict\u001b[0;34m(data, index, columns, dtype)\u001b[0m\n\u001b[1;32m    281\u001b[0m             \u001b[0marr\u001b[0m \u001b[0;32mif\u001b[0m \u001b[0;32mnot\u001b[0m \u001b[0mis_datetime64tz_dtype\u001b[0m\u001b[0;34m(\u001b[0m\u001b[0marr\u001b[0m\u001b[0;34m)\u001b[0m \u001b[0;32melse\u001b[0m \u001b[0marr\u001b[0m\u001b[0;34m.\u001b[0m\u001b[0mcopy\u001b[0m\u001b[0;34m(\u001b[0m\u001b[0;34m)\u001b[0m \u001b[0;32mfor\u001b[0m \u001b[0marr\u001b[0m \u001b[0;32min\u001b[0m \u001b[0marrays\u001b[0m\u001b[0;34m\u001b[0m\u001b[0;34m\u001b[0m\u001b[0m\n\u001b[1;32m    282\u001b[0m         ]\n\u001b[0;32m--> 283\u001b[0;31m     \u001b[0;32mreturn\u001b[0m \u001b[0marrays_to_mgr\u001b[0m\u001b[0;34m(\u001b[0m\u001b[0marrays\u001b[0m\u001b[0;34m,\u001b[0m \u001b[0mdata_names\u001b[0m\u001b[0;34m,\u001b[0m \u001b[0mindex\u001b[0m\u001b[0;34m,\u001b[0m \u001b[0mcolumns\u001b[0m\u001b[0;34m,\u001b[0m \u001b[0mdtype\u001b[0m\u001b[0;34m=\u001b[0m\u001b[0mdtype\u001b[0m\u001b[0;34m)\u001b[0m\u001b[0;34m\u001b[0m\u001b[0;34m\u001b[0m\u001b[0m\n\u001b[0m\u001b[1;32m    284\u001b[0m \u001b[0;34m\u001b[0m\u001b[0m\n\u001b[1;32m    285\u001b[0m \u001b[0;34m\u001b[0m\u001b[0m\n",
            "\u001b[0;32m/usr/local/lib/python3.6/dist-packages/pandas/core/internals/construction.py\u001b[0m in \u001b[0;36marrays_to_mgr\u001b[0;34m(arrays, arr_names, index, columns, dtype, verify_integrity)\u001b[0m\n\u001b[1;32m     76\u001b[0m         \u001b[0;31m# figure out the index, if necessary\u001b[0m\u001b[0;34m\u001b[0m\u001b[0;34m\u001b[0m\u001b[0;34m\u001b[0m\u001b[0m\n\u001b[1;32m     77\u001b[0m         \u001b[0;32mif\u001b[0m \u001b[0mindex\u001b[0m \u001b[0;32mis\u001b[0m \u001b[0;32mNone\u001b[0m\u001b[0;34m:\u001b[0m\u001b[0;34m\u001b[0m\u001b[0;34m\u001b[0m\u001b[0m\n\u001b[0;32m---> 78\u001b[0;31m             \u001b[0mindex\u001b[0m \u001b[0;34m=\u001b[0m \u001b[0mextract_index\u001b[0m\u001b[0;34m(\u001b[0m\u001b[0marrays\u001b[0m\u001b[0;34m)\u001b[0m\u001b[0;34m\u001b[0m\u001b[0;34m\u001b[0m\u001b[0m\n\u001b[0m\u001b[1;32m     79\u001b[0m         \u001b[0;32melse\u001b[0m\u001b[0;34m:\u001b[0m\u001b[0;34m\u001b[0m\u001b[0;34m\u001b[0m\u001b[0m\n\u001b[1;32m     80\u001b[0m             \u001b[0mindex\u001b[0m \u001b[0;34m=\u001b[0m \u001b[0mensure_index\u001b[0m\u001b[0;34m(\u001b[0m\u001b[0mindex\u001b[0m\u001b[0;34m)\u001b[0m\u001b[0;34m\u001b[0m\u001b[0;34m\u001b[0m\u001b[0m\n",
            "\u001b[0;32m/usr/local/lib/python3.6/dist-packages/pandas/core/internals/construction.py\u001b[0m in \u001b[0;36mextract_index\u001b[0;34m(data)\u001b[0m\n\u001b[1;32m    395\u001b[0m             \u001b[0mlengths\u001b[0m \u001b[0;34m=\u001b[0m \u001b[0mlist\u001b[0m\u001b[0;34m(\u001b[0m\u001b[0mset\u001b[0m\u001b[0;34m(\u001b[0m\u001b[0mraw_lengths\u001b[0m\u001b[0;34m)\u001b[0m\u001b[0;34m)\u001b[0m\u001b[0;34m\u001b[0m\u001b[0;34m\u001b[0m\u001b[0m\n\u001b[1;32m    396\u001b[0m             \u001b[0;32mif\u001b[0m \u001b[0mlen\u001b[0m\u001b[0;34m(\u001b[0m\u001b[0mlengths\u001b[0m\u001b[0;34m)\u001b[0m \u001b[0;34m>\u001b[0m \u001b[0;36m1\u001b[0m\u001b[0;34m:\u001b[0m\u001b[0;34m\u001b[0m\u001b[0;34m\u001b[0m\u001b[0m\n\u001b[0;32m--> 397\u001b[0;31m                 \u001b[0;32mraise\u001b[0m \u001b[0mValueError\u001b[0m\u001b[0;34m(\u001b[0m\u001b[0;34m\"arrays must all be same length\"\u001b[0m\u001b[0;34m)\u001b[0m\u001b[0;34m\u001b[0m\u001b[0;34m\u001b[0m\u001b[0m\n\u001b[0m\u001b[1;32m    398\u001b[0m \u001b[0;34m\u001b[0m\u001b[0m\n\u001b[1;32m    399\u001b[0m             \u001b[0;32mif\u001b[0m \u001b[0mhave_dicts\u001b[0m\u001b[0;34m:\u001b[0m\u001b[0;34m\u001b[0m\u001b[0;34m\u001b[0m\u001b[0m\n",
            "\u001b[0;31mValueError\u001b[0m: arrays must all be same length"
          ]
        }
      ]
    },
    {
      "cell_type": "markdown",
      "metadata": {
        "id": "lCpi6LkYFyhJ"
      },
      "source": [
        "# **Building Test DATA,**\n",
        "\n",
        "\n",
        "# **Upload your txt file for test DATA with file name  data_test.txt file**\n"
      ]
    },
    {
      "cell_type": "code",
      "metadata": {
        "id": "Lc7BHIHYGiQt"
      },
      "source": [
        "read_file1 = pd.read_fwf (r'data_test.txt')\n",
        "read_file1.to_csv (r'example3.csv', index=None)\n",
        "tf1 = pd.read_csv('example3.csv')\n",
        "tf1.drop(tf1.columns[[0,1,3,5,6,7,8,9,10]],axis =1)\n",
        "tf1.to_csv('example4.csv')\n",
        "tf2 = pd.read_csv('example4.csv')\n",
        "tf2 = tf2.replace(',','', regex=True)\n",
        "branch_load= []\n",
        "branch= []\n",
        "L1D= []\n",
        "L1I= []\n",
        "dTLB= []\n",
        "iTLB= []\n",
        "cache = []\n",
        "cycle =[]\n",
        "instr =[]\n",
        "for i in tf2.index:\n",
        "    if(tf2['events'][i] == 'branch-load-misses'):\n",
        "        branch_load.append(tf2['counts'][i])\n",
        "    elif(tf2['events'][i] == 'branch-misses'):\n",
        "        branch.append(tf2['counts'][i])\n",
        "    elif(tf2['events'][i] == 'L1-dcache-load-misses'):\n",
        "        L1D.append(tf2['counts'][i])\n",
        "    elif(tf2['events'][i] == 'L1-icache-load-misses'):\n",
        "        L1I.append(tf2['counts'][i])\n",
        "    elif(tf2['events'][i] == 'dTLB-load-misses'):\n",
        "        dTLB.append(tf2['counts'][i])\n",
        "    elif(tf2['events'][i] == 'iTLB-load-misses'):\n",
        "        iTLB.append(tf2['counts'][i])\n",
        "    elif(tf2['events'][i] == 'cache-misses'):\n",
        "        cache.append(tf2['counts'][i])\n",
        "    elif(tf2['events'][i] == 'instructions'):\n",
        "        instr.append(tf2['counts'][i])\n",
        "    elif(tf2['events'][i] == 'cycles'):\n",
        "        cycle.append(tf2['counts'][i])\n",
        "\n",
        "cpi = []\n",
        "for i in range(len(cycle)):\n",
        "    cpi.append(float(cycle[i])/float(instr[i]))\n",
        "def nor(l):\n",
        "    l = [float(i) for i in l] \n",
        "    l = [(float(i)-min(l))/(max(l)-min(l)) for i in l]\n",
        "    return l\n",
        "branch_load = nor(branch_load)\n",
        "cache = nor(cache)\n",
        "L1D= nor(L1D)\n",
        "L1I= nor(L1I)\n",
        "dTLB= nor(dTLB)\n",
        "branch= nor(branch)\n",
        "iTLB= nor(iTLB)\n",
        "\n",
        "dictionary_test = {'branch-load-misses' : branch_load, 'branch-misses':branch, 'L1-dcache-load-misses':L1D, 'L1-icache-load-misses':L1I, 'dTLB-load-misses':dTLB\n",
        "      ,'iTLB-load-misses':iTLB, 'cache-misses' :cache, 'CPI' : cpi}\n",
        "\n",
        "test_DATA = pd.DataFrame(dictionary_test)\n",
        "test_DATA.to_csv('Test_Data.csv')"
      ],
      "execution_count": null,
      "outputs": []
    },
    {
      "cell_type": "markdown",
      "metadata": {
        "id": "bmLqWZG6GtLM"
      },
      "source": [
        "# **Testing the Linear Regression Model**"
      ]
    },
    {
      "cell_type": "markdown",
      "metadata": {
        "id": "L4kLIAU7WmgZ"
      },
      "source": [
        "# **Calculating Coefficients Intercept**\n",
        "\n",
        "# **R^2**\n",
        "\n",
        "# **Adjusted R^2**\n",
        "\n",
        "# **F-statistic**\n",
        "\n",
        "# **Prob(F-statistic)** "
      ]
    },
    {
      "cell_type": "code",
      "metadata": {
        "colab": {
          "base_uri": "https://localhost:8080/",
          "height": 570
        },
        "id": "0l2JpYxGW-ZS",
        "outputId": "2e21e010-2b87-4e09-b80a-4ee6ef79f5a7"
      },
      "source": [
        "X_with_constant = sm.add_constant(finalDF[['branch-load-misses','branch-misses','L1-dcache-load-misses','L1-icache-load-misses','dTLB-load-misses','iTLB-load-misses','cache-misses']])\n",
        "model = sm.OLS(finalDF.CPI, X_with_constant)\n",
        "results = model.fit()\n",
        "results.summary()"
      ],
      "execution_count": null,
      "outputs": [
        {
          "output_type": "execute_result",
          "data": {
            "text/html": [
              "<table class=\"simpletable\">\n",
              "<caption>OLS Regression Results</caption>\n",
              "<tr>\n",
              "  <th>Dep. Variable:</th>           <td>CPI</td>       <th>  R-squared:         </th> <td>   0.762</td>\n",
              "</tr>\n",
              "<tr>\n",
              "  <th>Model:</th>                   <td>OLS</td>       <th>  Adj. R-squared:    </th> <td>   0.761</td>\n",
              "</tr>\n",
              "<tr>\n",
              "  <th>Method:</th>             <td>Least Squares</td>  <th>  F-statistic:       </th> <td>   935.8</td>\n",
              "</tr>\n",
              "<tr>\n",
              "  <th>Date:</th>             <td>Tue, 01 Dec 2020</td> <th>  Prob (F-statistic):</th>  <td>  0.00</td> \n",
              "</tr>\n",
              "<tr>\n",
              "  <th>Time:</th>                 <td>06:19:13</td>     <th>  Log-Likelihood:    </th> <td>  3186.2</td>\n",
              "</tr>\n",
              "<tr>\n",
              "  <th>No. Observations:</th>      <td>  2057</td>      <th>  AIC:               </th> <td>  -6356.</td>\n",
              "</tr>\n",
              "<tr>\n",
              "  <th>Df Residuals:</th>          <td>  2049</td>      <th>  BIC:               </th> <td>  -6311.</td>\n",
              "</tr>\n",
              "<tr>\n",
              "  <th>Df Model:</th>              <td>     7</td>      <th>                     </th>     <td> </td>   \n",
              "</tr>\n",
              "<tr>\n",
              "  <th>Covariance Type:</th>      <td>nonrobust</td>    <th>                     </th>     <td> </td>   \n",
              "</tr>\n",
              "</table>\n",
              "<table class=\"simpletable\">\n",
              "<tr>\n",
              "            <td></td>               <th>coef</th>     <th>std err</th>      <th>t</th>      <th>P>|t|</th>  <th>[0.025</th>    <th>0.975]</th>  \n",
              "</tr>\n",
              "<tr>\n",
              "  <th>const</th>                 <td>    0.2446</td> <td>    0.024</td> <td>   10.308</td> <td> 0.000</td> <td>    0.198</td> <td>    0.291</td>\n",
              "</tr>\n",
              "<tr>\n",
              "  <th>branch-load-misses</th>    <td>   -0.6547</td> <td>    0.224</td> <td>   -2.916</td> <td> 0.004</td> <td>   -1.095</td> <td>   -0.214</td>\n",
              "</tr>\n",
              "<tr>\n",
              "  <th>branch-misses</th>         <td>    0.3045</td> <td>    0.225</td> <td>    1.356</td> <td> 0.175</td> <td>   -0.136</td> <td>    0.745</td>\n",
              "</tr>\n",
              "<tr>\n",
              "  <th>L1-dcache-load-misses</th> <td>   -1.1218</td> <td>    0.041</td> <td>  -27.366</td> <td> 0.000</td> <td>   -1.202</td> <td>   -1.041</td>\n",
              "</tr>\n",
              "<tr>\n",
              "  <th>L1-icache-load-misses</th> <td>    1.0245</td> <td>    0.049</td> <td>   20.743</td> <td> 0.000</td> <td>    0.928</td> <td>    1.121</td>\n",
              "</tr>\n",
              "<tr>\n",
              "  <th>dTLB-load-misses</th>      <td>    2.2838</td> <td>    0.056</td> <td>   41.116</td> <td> 0.000</td> <td>    2.175</td> <td>    2.393</td>\n",
              "</tr>\n",
              "<tr>\n",
              "  <th>iTLB-load-misses</th>      <td>    0.0922</td> <td>    0.021</td> <td>    4.295</td> <td> 0.000</td> <td>    0.050</td> <td>    0.134</td>\n",
              "</tr>\n",
              "<tr>\n",
              "  <th>cache-misses</th>          <td>    0.7947</td> <td>    0.030</td> <td>   26.831</td> <td> 0.000</td> <td>    0.737</td> <td>    0.853</td>\n",
              "</tr>\n",
              "</table>\n",
              "<table class=\"simpletable\">\n",
              "<tr>\n",
              "  <th>Omnibus:</th>       <td>3773.114</td> <th>  Durbin-Watson:     </th>   <td>   1.968</td>  \n",
              "</tr>\n",
              "<tr>\n",
              "  <th>Prob(Omnibus):</th>  <td> 0.000</td>  <th>  Jarque-Bera (JB):  </th> <td>46771944.165</td>\n",
              "</tr>\n",
              "<tr>\n",
              "  <th>Skew:</th>           <td>12.164</td>  <th>  Prob(JB):          </th>   <td>    0.00</td>  \n",
              "</tr>\n",
              "<tr>\n",
              "  <th>Kurtosis:</th>       <td>741.322</td> <th>  Cond. No.          </th>   <td>    589.</td>  \n",
              "</tr>\n",
              "</table><br/><br/>Warnings:<br/>[1] Standard Errors assume that the covariance matrix of the errors is correctly specified."
            ],
            "text/plain": [
              "<class 'statsmodels.iolib.summary.Summary'>\n",
              "\"\"\"\n",
              "                            OLS Regression Results                            \n",
              "==============================================================================\n",
              "Dep. Variable:                    CPI   R-squared:                       0.762\n",
              "Model:                            OLS   Adj. R-squared:                  0.761\n",
              "Method:                 Least Squares   F-statistic:                     935.8\n",
              "Date:                Tue, 01 Dec 2020   Prob (F-statistic):               0.00\n",
              "Time:                        06:19:13   Log-Likelihood:                 3186.2\n",
              "No. Observations:                2057   AIC:                            -6356.\n",
              "Df Residuals:                    2049   BIC:                            -6311.\n",
              "Df Model:                           7                                         \n",
              "Covariance Type:            nonrobust                                         \n",
              "=========================================================================================\n",
              "                            coef    std err          t      P>|t|      [0.025      0.975]\n",
              "-----------------------------------------------------------------------------------------\n",
              "const                     0.2446      0.024     10.308      0.000       0.198       0.291\n",
              "branch-load-misses       -0.6547      0.224     -2.916      0.004      -1.095      -0.214\n",
              "branch-misses             0.3045      0.225      1.356      0.175      -0.136       0.745\n",
              "L1-dcache-load-misses    -1.1218      0.041    -27.366      0.000      -1.202      -1.041\n",
              "L1-icache-load-misses     1.0245      0.049     20.743      0.000       0.928       1.121\n",
              "dTLB-load-misses          2.2838      0.056     41.116      0.000       2.175       2.393\n",
              "iTLB-load-misses          0.0922      0.021      4.295      0.000       0.050       0.134\n",
              "cache-misses              0.7947      0.030     26.831      0.000       0.737       0.853\n",
              "==============================================================================\n",
              "Omnibus:                     3773.114   Durbin-Watson:                   1.968\n",
              "Prob(Omnibus):                  0.000   Jarque-Bera (JB):         46771944.165\n",
              "Skew:                          12.164   Prob(JB):                         0.00\n",
              "Kurtosis:                     741.322   Cond. No.                         589.\n",
              "==============================================================================\n",
              "\n",
              "Warnings:\n",
              "[1] Standard Errors assume that the covariance matrix of the errors is correctly specified.\n",
              "\"\"\""
            ]
          },
          "metadata": {
            "tags": []
          },
          "execution_count": 14
        }
      ]
    },
    {
      "cell_type": "markdown",
      "metadata": {
        "id": "Tg-AcmFfnmnp"
      },
      "source": [
        "# **Trying to get Positive coefficient**\n"
      ]
    },
    {
      "cell_type": "code",
      "metadata": {
        "colab": {
          "base_uri": "https://localhost:8080/"
        },
        "id": "IllMpcN2IfhA",
        "outputId": "f1204e9a-04a3-416d-ff90-669d7bbfdf98"
      },
      "source": [
        "from sklearn.linear_model import Lasso\n",
        "lin = Lasso(alpha=0,precompute=True,max_iter=1000,\n",
        "            positive=True, random_state=9999, selection='random')\n",
        "lin.fit(finalDF[['branch-load-misses','branch-misses','L1-dcache-load-misses','L1-icache-load-misses','dTLB-load-misses','iTLB-load-misses','cache-misses']],finalDF.CPI)"
      ],
      "execution_count": null,
      "outputs": [
        {
          "output_type": "stream",
          "text": [
            "/usr/local/lib/python3.6/dist-packages/ipykernel_launcher.py:4: UserWarning: With alpha=0, this algorithm does not converge well. You are advised to use the LinearRegression estimator\n",
            "  after removing the cwd from sys.path.\n",
            "/usr/local/lib/python3.6/dist-packages/sklearn/linear_model/_coordinate_descent.py:472: UserWarning: Coordinate descent with alpha=0 may lead to unexpected results and is discouraged.\n",
            "  tol, rng, random, positive)\n"
          ],
          "name": "stderr"
        },
        {
          "output_type": "execute_result",
          "data": {
            "text/plain": [
              "Lasso(alpha=0, copy_X=True, fit_intercept=True, max_iter=1000, normalize=False,\n",
              "      positive=True, precompute=True, random_state=9999, selection='random',\n",
              "      tol=0.0001, warm_start=False)"
            ]
          },
          "metadata": {
            "tags": []
          },
          "execution_count": 17
        }
      ]
    },
    {
      "cell_type": "code",
      "metadata": {
        "colab": {
          "base_uri": "https://localhost:8080/"
        },
        "id": "ZEyJGyyoJFPl",
        "outputId": "e6b8987b-e8d8-4768-ea17-381573ebff4d"
      },
      "source": [
        "lin.coef_"
      ],
      "execution_count": null,
      "outputs": [
        {
          "output_type": "execute_result",
          "data": {
            "text/plain": [
              "array([0.        , 0.        , 0.        , 0.35133294, 0.67090063,\n",
              "       0.05917919, 0.90774783])"
            ]
          },
          "metadata": {
            "tags": []
          },
          "execution_count": 18
        }
      ]
    },
    {
      "cell_type": "code",
      "metadata": {
        "colab": {
          "base_uri": "https://localhost:8080/"
        },
        "id": "5FCAYcs9-FD3",
        "outputId": "ab684b3f-7870-42a2-cc77-4b2966f1582d"
      },
      "source": [
        "lin.intercept_"
      ],
      "execution_count": null,
      "outputs": [
        {
          "output_type": "execute_result",
          "data": {
            "text/plain": [
              "0.10028698137295633"
            ]
          },
          "metadata": {
            "tags": []
          },
          "execution_count": 21
        }
      ]
    },
    {
      "cell_type": "code",
      "metadata": {
        "id": "povrEWHsNjuG",
        "colab": {
          "base_uri": "https://localhost:8080/"
        },
        "outputId": "38da62e9-3d7e-49ea-ef29-a0ae0aee5fd2"
      },
      "source": [
        "st = lin.coef_\n",
        "ic = lin.intercept_\n",
        "st"
      ],
      "execution_count": null,
      "outputs": [
        {
          "output_type": "execute_result",
          "data": {
            "text/plain": [
              "array([0.        , 0.        , 0.        , 0.35133294, 0.67090063,\n",
              "       0.05917919, 0.90774783])"
            ]
          },
          "metadata": {
            "tags": []
          },
          "execution_count": 22
        }
      ]
    },
    {
      "cell_type": "code",
      "metadata": {
        "colab": {
          "base_uri": "https://localhost:8080/"
        },
        "id": "BbeNxdnK-zOj",
        "outputId": "629c386a-1166-40c8-b85b-826666117f76"
      },
      "source": [
        "predictedCPI = lin.predict(test_DATA[['branch-load-misses','branch-misses','L1-dcache-load-misses','L1-icache-load-misses','dTLB-load-misses','iTLB-load-misses','cache-misses']])\n",
        "predictedCPI"
      ],
      "execution_count": null,
      "outputs": [
        {
          "output_type": "execute_result",
          "data": {
            "text/plain": [
              "array([0.5107991 , 1.14896498, 1.40367888, ..., 0.90666516, 0.80460907,\n",
              "       1.5245125 ])"
            ]
          },
          "metadata": {
            "tags": []
          },
          "execution_count": 30
        }
      ]
    },
    {
      "cell_type": "code",
      "metadata": {
        "colab": {
          "base_uri": "https://localhost:8080/"
        },
        "id": "-xnz1Pw7-4VN",
        "outputId": "9d4d1878-d9c3-43c1-b719-4a3a832fa1ea"
      },
      "source": [
        "actualCPI = test_DATA.CPI\n",
        "mse = sklearn.metrics.mean_squared_error(actualCPI, predictedCPI)\n",
        "rmse = math.sqrt(mse)\n",
        "rmse"
      ],
      "execution_count": null,
      "outputs": [
        {
          "output_type": "execute_result",
          "data": {
            "text/plain": [
              "0.18209148191719193"
            ]
          },
          "metadata": {
            "tags": []
          },
          "execution_count": 31
        }
      ]
    },
    {
      "cell_type": "code",
      "metadata": {
        "colab": {
          "base_uri": "https://localhost:8080/",
          "height": 350
        },
        "id": "1Lx4uSGo_G6j",
        "outputId": "a7f3ec13-a4e2-4ee6-f1be-afa7c4b9bb95"
      },
      "source": [
        "residual = actualCPI - predictedCPI\n",
        "sns.distplot(residual)"
      ],
      "execution_count": null,
      "outputs": [
        {
          "output_type": "stream",
          "text": [
            "/usr/local/lib/python3.6/dist-packages/seaborn/distributions.py:2551: FutureWarning: `distplot` is a deprecated function and will be removed in a future version. Please adapt your code to use either `displot` (a figure-level function with similar flexibility) or `histplot` (an axes-level function for histograms).\n",
            "  warnings.warn(msg, FutureWarning)\n"
          ],
          "name": "stderr"
        },
        {
          "output_type": "execute_result",
          "data": {
            "text/plain": [
              "<matplotlib.axes._subplots.AxesSubplot at 0x7f10ac6b7860>"
            ]
          },
          "metadata": {
            "tags": []
          },
          "execution_count": 32
        },
        {
          "output_type": "display_data",
          "data": {
            "image/png": "[encoded data removed]",
            "text/plain": [
              "<Figure size 432x288 with 1 Axes>"
            ]
          },
          "metadata": {
            "tags": [],
            "needs_background": "light"
          }
        }
      ]
    },
    {
      "cell_type": "code",
      "metadata": {
        "colab": {
          "base_uri": "https://localhost:8080/",
          "height": 214
        },
        "id": "WWtE9-3K_N9U",
        "outputId": "77ca80d1-cc11-4039-a93e-9bd83cbeda19"
      },
      "source": [
        "fig, ax = plt.subplots(figsize=(6,2.5))\n",
        "_, (__, ___, r) = sp.stats.probplot(residual, plot=ax, fit=True)"
      ],
      "execution_count": null,
      "outputs": [
        {
          "output_type": "display_data",
          "data": {
            "image/png": "[encoded data removed]",
            "text/plain": [
              "<Figure size 432x180 with 1 Axes>"
            ]
          },
          "metadata": {
            "tags": [],
            "needs_background": "light"
          }
        }
      ]
    },
    {
      "cell_type": "code",
      "metadata": {
        "id": "_EL_FGMvDCsR"
      },
      "source": [
        ""
      ],
      "execution_count": null,
      "outputs": []
    },
    {
      "cell_type": "markdown",
      "metadata": {
        "id": "Ld68_CGHoEAv"
      },
      "source": [
        "\n",
        "# **Stack**"
      ]
    },
    {
      "cell_type": "code",
      "metadata": {
        "id": "hPfVOj47oUvu"
      },
      "source": [
        "import numpy as np\n",
        "import matplotlib.pyplot as plt\n",
        "from matplotlib import rc\n",
        "import pandas as pd\n"
      ],
      "execution_count": null,
      "outputs": []
    },
    {
      "cell_type": "code",
      "metadata": {
        "colab": {
          "base_uri": "https://localhost:8080/"
        },
        "id": "cfB12NUUrJPL",
        "outputId": "f331af5c-4904-4f62-c10b-aacbff8a9abb"
      },
      "source": [
        "s = st\n",
        "intercept = ic\n",
        "ss = [intercept]\n",
        "for i in range(1,7):\n",
        "  ss.append(ss[i-1]+s[i-1])\n",
        "ss"
      ],
      "execution_count": null,
      "outputs": [
        {
          "output_type": "execute_result",
          "data": {
            "text/plain": [
              "[0.10028698137295633,\n",
              " 0.10028698137295633,\n",
              " 0.10028698137295633,\n",
              " 0.10028698137295633,\n",
              " 0.45161991765063275,\n",
              " 1.1225205427340927,\n",
              " 1.1816997277515444]"
            ]
          },
          "metadata": {
            "tags": []
          },
          "execution_count": 23
        }
      ]
    },
    {
      "cell_type": "code",
      "metadata": {
        "colab": {
          "base_uri": "https://localhost:8080/",
          "height": 279
        },
        "id": "0RFpVHIsqGNd",
        "outputId": "d051e2b6-f0eb-47b7-d550-5f1a20da40af"
      },
      "source": [
        " \n",
        "# y-axis in bold\n",
        "# rc('font', weight='bold')\n",
        "plt.bar(0,intercept,width =.5, label='Base CPI')\n",
        "labels = ['branch-load-misses','branch-misses','L1-dcache-load-misses','L1-icache-load-misses','dTLB-load-misses','iTLB-load-misses','cache-misses']\n",
        "for i in range(7):\n",
        "  plt.bar(0,s[i], width=.5,bottom =ss[i], label= labels[i])\n",
        "\n",
        "for i in range(8):\n",
        "  plt.bar(1,0, width=0.1,bottom = 0)\n",
        "\n",
        "\n",
        "\n",
        "\n",
        "plt.xlabel('events')\n",
        "\n",
        "plt.ylabel('CPI')\n",
        "plt.legend()\n",
        "# plt.legend(('Base CPI','branch-load-misses','branch-misses','L1-dcache-load-misses','L1-icache-load-misses','dTLB-load-misses','iTLB-load-misses','cache-misses'))\n",
        "plt.show()"
      ],
      "execution_count": null,
      "outputs": [
        {
          "output_type": "display_data",
          "data": {
            "image/png": "[encoded data removed]",
            "text/plain": [
              "<Figure size 432x288 with 1 Axes>"
            ]
          },
          "metadata": {
            "tags": [],
            "needs_background": "light"
          }
        }
      ]
    }
  ]
}